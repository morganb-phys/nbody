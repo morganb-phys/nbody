{
 "cells": [
  {
   "cell_type": "code",
   "execution_count": 1,
   "metadata": {},
   "outputs": [
    {
     "name": "stdout",
     "output_type": "stream",
     "text": [
      "/home/bennett/local/lib/python3.6/site-packages/galpy-1.7.0.dev0-py3.6-linux-x86_64.egg/galpy/util/bovy_conversion.py:6: FutureWarning: galpy.util.bovy_conversion is being deprecated in favor of galpy.util.conversion; all functions in there are the same; please switch to the new import, because the old import will be removed in v1.9\n",
      "  warnings.warn('galpy.util.bovy_conversion is being deprecated in favor of galpy.util.conversion; all functions in there are the same; please switch to the new import, because the old import will be removed in v1.9',FutureWarning)\n",
      "\n",
      "/home/bennett/local/lib/python3.6/site-packages/galpy-1.7.0.dev0-py3.6-linux-x86_64.egg/galpy/util/bovy_plot.py:5: FutureWarning: galpy.util.bovy_plot is being deprecated in favor of galpy.util.plot; functions inside of this module have also changed name, but all functions still exist; please switch to the new import and new function names, because the old import and function names will be removed in v1.9\n",
      "  warnings.warn('galpy.util.bovy_plot is being deprecated in favor of galpy.util.plot; functions inside of this module have also changed name, but all functions still exist; please switch to the new import and new function names, because the old import and function names will be removed in v1.9',FutureWarning)\n",
      "\n"
     ]
    }
   ],
   "source": [
    "import pygadgetreader\n",
    "import matplotlib.pyplot as plt\n",
    "import numpy as np\n",
    "\n",
    "import py.SimPy\n",
    "import importlib\n",
    "\n",
    "from galpy.potential import vcirc\n",
    "from galpy.util.bovy_conversion import mass_in_1010msol,mass_in_msol\n",
    "from galpy.util import bovy_plot\n",
    "bovy_plot.bovy_print(axes_labelsize=17.,text_fontsize=16.,xtick_labelsize=14.,ytick_labelsize=14.)\n",
    "\n",
    "import tqdm\n",
    "import sys\n",
    "\n",
    "NLU= 1. #kpc\n",
    "NTU= 9.77792 #Myr\n",
    "NVU= 100.#km/s\n",
    "NMU= 2.32503e9 #Msun"
   ]
  },
  {
   "cell_type": "markdown",
   "metadata": {},
   "source": [
    "# Combine snapshot files in Partree format\n",
    "\n",
    "Read in the halo, disc and then bulge particles each of the ten 1e8 particle simulations from the gadget snapshots and then write to file in the format: m x y z vx vy vz"
   ]
  },
  {
   "cell_type": "code",
   "execution_count": null,
   "metadata": {},
   "outputs": [
    {
     "name": "stdout",
     "output_type": "stream",
     "text": [
      "Returning DM    Positions\n",
      "Returning DM    Velocities\n",
      "Returning DM    Mass\n"
     ]
    }
   ],
   "source": [
    "for i in range(10):\n",
    "    #GalIC position units are 1 kpc\n",
    "    hx= pygadgetreader.readsnap('/epsen_data/scr/bennett/MyMW_1e9/snap_010-'+str(int((i+1)*1000)),'pos',ptype='dm')\n",
    "    hv= pygadgetreader.readsnap('/epsen_data/scr/bennett/MyMW_1e9/snap_010-'+str(int((i+1)*1000)),'vel',ptype='dm')\n",
    "    hm= pygadgetreader.readsnap('/epsen_data/scr/bennett/MyMW_1e9/snap_010-'+str(int((i+1)*1000)),'mass',ptype='dm')*1e10/10.\n",
    "    if i==0:\n",
    "        htofile= np.vstack([hm/NMU,hx.T/NLU,hv.T/NVU]).T.astype('float32')\n",
    "        with open('/epsen_data/scr/bennett/MyMW_1e9/MyMW.00000','wb') as f:\n",
    "            htofile.tofile(f,format='f4')\n",
    "    else:\n",
    "        htofile= np.vstack([hm/NMU,hx.T/NLU,hv.T/NVU]).T.astype('float32')\n",
    "        with open('/epsen_data/scr/bennett/MyMW_1e9/MyMW.00000','ab') as f:\n",
    "            htofile.tofile(f,format='f4')\n",
    "\n",
    "for i in range(10):\n",
    "    #GalIC velocity units are 1 km/s\n",
    "    dx= pygadgetreader.readsnap('/epsen_data/scr/bennett/MyMW_1e9/snap_010-'+str(int((i+1)*1000)),'pos',ptype='disk')\n",
    "    dv= pygadgetreader.readsnap('/epsen_data/scr/bennett/MyMW_1e9/snap_010-'+str(int((i+1)*1000)),'vel',ptype='disk')\n",
    "    dm= pygadgetreader.readsnap('/epsen_data/scr/bennett/MyMW_1e9/snap_010-'+str(int((i+1)*1000)),'mass',ptype='disk')*1e10/10\n",
    "    \n",
    "    dtofile= np.vstack([dm/NMU,dx.T/NLU,dv.T/NVU]).T.astype('float32')\n",
    "    with open('/epsen_data/scr/bennett/MyMW_1e9/MyMW.00000','ab') as f:\n",
    "        dtofile.tofile(f,format='f4')\n",
    "    \n",
    "for i in range(10):\n",
    "    #GalIC mass units are 10^10 Msun\n",
    "    bx= pygadgetreader.readsnap('/epsen_data/scr/bennett/MyMW_1e9/snap_010-'+str(int((i+1)*1000)),'pos',ptype='bulge')\n",
    "    bv= pygadgetreader.readsnap('/epsen_data/scr/bennett/MyMW_1e9/snap_010-'+str(int((i+1)*1000)),'vel',ptype='bulge')\n",
    "    bm= pygadgetreader.readsnap('/epsen_data/scr/bennett/MyMW_1e9/snap_010-'+str(int((i+1)*1000)),'mass',ptype='bulge')*1e10/10\n",
    "\n",
    "    btofile= np.vstack([bm/NMU,bx.T/NLU,bv.T/NVU]).T.astype('float32')\n",
    "    with open('/epsen_data/scr/bennett/MyMW_1e9/MyMW.00000','ab') as f:\n",
    "        btofile.tofile(f,format='f4')\n",
    "        \n",
    "del hx,hv,hm\n",
    "del dx,dv,dm\n",
    "del bx,bv,bm\n",
    "\n",
    "del htofile,dtofile,btofile"
   ]
  },
  {
   "cell_type": "markdown",
   "metadata": {},
   "source": [
    "### Define a function that only reads in the disc particles"
   ]
  },
  {
   "cell_type": "code",
   "execution_count": null,
   "metadata": {},
   "outputs": [],
   "source": [
    "# Offset is in bytes and count is number of items\n",
    "def read_disc():\n",
    "    with open('/epsen_data/scr/bennett/MyMW_1e9/MyMW.00000','rb') as f:\n",
    "        mxv= np.fromfile(f,dtype='f4',offset=int(4e8)*7*4,count=7*int(5e8))\n",
    "        mxv= np.reshape(mxv,(int(5e8),7))\n",
    "    return mxv"
   ]
  },
  {
   "cell_type": "markdown",
   "metadata": {},
   "source": [
    "## Adjust for the centre of mass of all particles and the angular momentum of the disc\n",
    "\n",
    "$$COM = \\frac{\\Sigma_i \\left(m_i\\cdot v_i\\right)}{\\Sigma_j m_j}$$\n",
    "\n",
    "$$L_z= \\vec{x}\\times \\left(m\\cdot \\vec{v}\\right)$$"
   ]
  },
  {
   "cell_type": "code",
   "execution_count": null,
   "metadata": {},
   "outputs": [],
   "source": [
    "nump= int(1e9)\n",
    "nslice= 10\n",
    "ndisk= int(5e8)\n",
    "mtot= 0\n",
    "COMraw= 0\n",
    "Ltot= np.array([0., 0., 0.]) \n",
    "\n",
    "for i in tqdm.trange(nslice):\n",
    "    with open('/epsen_data/scr/bennett/MyMW_1e9/MyMW.00000','rb') as f:\n",
    "        mxv= np.fromfile(f,dtype='f4',offset=i*7*int(nump/nslice)*4,count=7*int(nump/nslice))\n",
    "        mxv= np.reshape(mxv,(int(nump/nslice),7))\n",
    "        mtot+=np.sum(mxv[:,0])\n",
    "        COMraw+=np.sum(mxv[:,0][:,None]*mxv[:,1:4],axis=0)\n",
    "        \n",
    "COM= COMraw/mtot\n",
    "\n",
    "for i in tqdm.trange(nslice):\n",
    "    with open('/epsen_data/scr/bennett/MyMW_1e9/MyMW.00000','rb') as f:\n",
    "        mxv= np.fromfile(f,dtype='f4',offset=(int(4e8)*7+i*7*int(ndisk/nslice))*4,count=7*int(ndisk/nslice))\n",
    "        mxv= np.reshape(mxv,(int(ndisk/nslice),7))\n",
    "        Ltot+= np.sum(np.cross((mxv[:,1:4]-COM),mxv[:,0][:,None]*mxv[:,4:]),axis=0)\n",
    "        "
   ]
  },
  {
   "cell_type": "code",
   "execution_count": null,
   "metadata": {},
   "outputs": [],
   "source": [
    "print(Ltot/np.sqrt(np.sum(Ltot**2)))"
   ]
  },
  {
   "cell_type": "markdown",
   "metadata": {},
   "source": [
    "### Use the anglar momentum to rotate the positions and velocities of the particles"
   ]
  },
  {
   "cell_type": "code",
   "execution_count": null,
   "metadata": {},
   "outputs": [],
   "source": [
    "Ltot= Ltot/np.sqrt(np.sum(Ltot**2))\n",
    "rot= SimPy.calc_Rot_matrix(Ltot)\n",
    "\n",
    "for i in tqdm.trange(nslice):\n",
    "    with open('/epsen_data/scr/bennett/MyMW_1e9/MyMW.00000','rb') as f:\n",
    "        mxv= np.fromfile(f,dtype='f4',offset=i*7*int(nump/nslice)*4,count=7*int(nump/nslice))\n",
    "        mxv= np.reshape(mxv,(int(nump/nslice),7))\n",
    "        pos= np.matmul(rot,mxv[:,1:4].T-COM[:,None])\n",
    "        vel= np.matmul(rot,mxv[:,4:].T)\n",
    "        \n",
    "        tofile= np.vstack([mxv[:,0],pos,vel]).T.astype('float32')\n",
    "        if i==0:\n",
    "            with open('/epsen_data/scr/bennett/MyMW_1e9/MyMW_adj.00000','wb') as f:\n",
    "                tofile.tofile(f,format='f4')\n",
    "        else:\n",
    "            with open('/epsen_data/scr/bennett/MyMW_1e9/MyMW_adj.00000','ab') as f:\n",
    "                tofile.tofile(f,format='f4')"
   ]
  },
  {
   "cell_type": "code",
   "execution_count": 3,
   "metadata": {},
   "outputs": [
    {
     "name": "stdout",
     "output_type": "stream",
     "text": [
      "Total number of particles:  89868386\n",
      "Total number of particles:  89877760\n",
      "Total number of particles:  89867816\n",
      "Total number of particles:  89876776\n",
      "Total number of particles:  100000000\n",
      "Total number of particles:  100000000\n",
      "Total number of particles:  100000000\n",
      "Total number of particles:  100000000\n",
      "Total number of particles:  100000000\n",
      "Total number of particles:  99788235\n"
     ]
    }
   ],
   "source": [
    "# Truncate so no particles are outside of 500 kpc\n",
    "nump= int(1e9)\n",
    "nslice= 10\n",
    "npart= np.zeros(nslice)\n",
    "rlim=500\n",
    "\n",
    "for i in range(nslice):\n",
    "    with open('/epsen_data/scr/bennett/MyMW_1e9/MyMW_adj.00000','rb') as f:\n",
    "        mxv= np.fromfile(f,dtype='f4',offset=i*7*int(nump/nslice)*4,count=7*int(nump/nslice))\n",
    "        mxv= np.reshape(mxv,(int(nump/nslice),7))\n",
    "        \n",
    "        r= np.sqrt(mxv[:,1]**2+mxv[:,2]**2+mxv[:,3]**2)\n",
    "        print('Total number of particles: ',np.sum([r<rlim]))\n",
    "        npart[i]= np.sum([r<rlim])\n",
    "        mxv=mxv[r<rlim]\n",
    "        \n",
    "        if i==0:\n",
    "            with open('/epsen_data/scr/bennett/MyMW_1e9/MyMW_trunc.00000','wb') as f:\n",
    "                mxv.tofile(f,format='f4')\n",
    "        else:\n",
    "            with open('/epsen_data/scr/bennett/MyMW_1e9/MyMW_trunc.00000','ab') as f:\n",
    "                mxv.tofile(f,format='f4')"
   ]
  },
  {
   "cell_type": "code",
   "execution_count": 8,
   "metadata": {},
   "outputs": [
    {
     "name": "stdout",
     "output_type": "stream",
     "text": [
      "halo 359490738\n",
      "disc 500000000\n",
      "bulge 99788235\n",
      "Total 959278973\n"
     ]
    }
   ],
   "source": [
    "print('halo', int(np.sum(npart[:4])))\n",
    "print('disc', int(np.sum(npart[4:9])))\n",
    "print('bulge',int(npart[9]))\n",
    "\n",
    "print('Total',int(np.sum(npart)))\n",
    "\n",
    "with open('data/n_part_equil.txt','w') as f:\n",
    "    f.write(\"total,halo,disc,bulge\\n\")\n",
    "    f.write(str(int(np.sum(npart)))+','+str(int(np.sum(npart[:4])))+','+\n",
    "            str(int(np.sum(npart[4:9])))+','+str(int(npart[9])))"
   ]
  }
 ],
 "metadata": {
  "kernelspec": {
   "display_name": "Python 3",
   "language": "python",
   "name": "python3"
  },
  "language_info": {
   "codemirror_mode": {
    "name": "ipython",
    "version": 3
   },
   "file_extension": ".py",
   "mimetype": "text/x-python",
   "name": "python",
   "nbconvert_exporter": "python",
   "pygments_lexer": "ipython3",
   "version": "3.6.5"
  }
 },
 "nbformat": 4,
 "nbformat_minor": 2
}
