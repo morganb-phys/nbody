{
 "cells": [
  {
   "cell_type": "code",
   "execution_count": 1,
   "metadata": {},
   "outputs": [],
   "source": [
    "import pygadgetreader\n",
    "import matplotlib.pyplot as plt\n",
    "import numpy as np\n",
    "\n",
    "import SimPy\n",
    "import importlib\n",
    "importlib.reload(SimPy)\n",
    "\n",
    "from galpy.potential import vcirc\n",
    "from galpy.util.bovy_conversion import mass_in_1010msol,mass_in_msol\n",
    "from galpy.util import bovy_plot\n",
    "bovy_plot.bovy_print(axes_labelsize=17.,text_fontsize=16.,xtick_labelsize=14.,ytick_labelsize=14.)\n",
    "\n",
    "import tqdm\n",
    "import sys\n",
    "\n",
    "NLU= 1. #kpc\n",
    "NTU= 9.77792 #Myr\n",
    "NVU= 100.#km/s\n",
    "NMU= 2.32503e9 #Msun"
   ]
  },
  {
   "cell_type": "markdown",
   "metadata": {},
   "source": [
    "# Combine snapshot files in Partree format\n",
    "\n",
    "Read in the halo, disc and then bulge particles each of the ten 1e8 particle simulations from the gadget snapshots and then write to file in the format: m x y z vx vy vz"
   ]
  },
  {
   "cell_type": "code",
   "execution_count": 10,
   "metadata": {},
   "outputs": [
    {
     "name": "stdout",
     "output_type": "stream",
     "text": [
      "Returning DM    Positions\n",
      "Returning DM    Velocities\n",
      "Returning DM    Mass\n",
      "Returning DM    Positions\n",
      "Returning DM    Velocities\n",
      "Returning DM    Mass\n",
      "Returning DM    Positions\n",
      "Returning DM    Velocities\n",
      "Returning DM    Mass\n",
      "Returning DM    Positions\n",
      "Returning DM    Velocities\n",
      "Returning DM    Mass\n",
      "Returning DM    Positions\n",
      "Returning DM    Velocities\n",
      "Returning DM    Mass\n",
      "Returning DM    Positions\n",
      "Returning DM    Velocities\n",
      "Returning DM    Mass\n",
      "Returning DM    Positions\n",
      "Returning DM    Velocities\n",
      "Returning DM    Mass\n",
      "Returning DM    Positions\n",
      "Returning DM    Velocities\n",
      "Returning DM    Mass\n",
      "Returning DM    Positions\n",
      "Returning DM    Velocities\n",
      "Returning DM    Mass\n",
      "Returning DM    Positions\n",
      "Returning DM    Velocities\n",
      "Returning DM    Mass\n",
      "Returning DISK  Positions\n",
      "Returning DISK  Velocities\n",
      "Returning DISK  Mass\n",
      "Returning DISK  Positions\n",
      "Returning DISK  Velocities\n",
      "Returning DISK  Mass\n",
      "Returning DISK  Positions\n",
      "Returning DISK  Velocities\n",
      "Returning DISK  Mass\n",
      "Returning DISK  Positions\n",
      "Returning DISK  Velocities\n",
      "Returning DISK  Mass\n",
      "Returning DISK  Positions\n",
      "Returning DISK  Velocities\n",
      "Returning DISK  Mass\n",
      "Returning DISK  Positions\n",
      "Returning DISK  Velocities\n",
      "Returning DISK  Mass\n",
      "Returning DISK  Positions\n",
      "Returning DISK  Velocities\n",
      "Returning DISK  Mass\n",
      "Returning DISK  Positions\n",
      "Returning DISK  Velocities\n",
      "Returning DISK  Mass\n",
      "Returning DISK  Positions\n",
      "Returning DISK  Velocities\n",
      "Returning DISK  Mass\n",
      "Returning DISK  Positions\n",
      "Returning DISK  Velocities\n",
      "Returning DISK  Mass\n",
      "Returning BULGE Positions\n",
      "Returning BULGE Velocities\n",
      "Returning BULGE Mass\n",
      "Returning BULGE Positions\n",
      "Returning BULGE Velocities\n",
      "Returning BULGE Mass\n",
      "Returning BULGE Positions\n",
      "Returning BULGE Velocities\n",
      "Returning BULGE Mass\n",
      "Returning BULGE Positions\n",
      "Returning BULGE Velocities\n",
      "Returning BULGE Mass\n",
      "Returning BULGE Positions\n",
      "Returning BULGE Velocities\n",
      "Returning BULGE Mass\n",
      "Returning BULGE Positions\n",
      "Returning BULGE Velocities\n",
      "Returning BULGE Mass\n",
      "Returning BULGE Positions\n",
      "Returning BULGE Velocities\n",
      "Returning BULGE Mass\n",
      "Returning BULGE Positions\n",
      "Returning BULGE Velocities\n",
      "Returning BULGE Mass\n",
      "Returning BULGE Positions\n",
      "Returning BULGE Velocities\n",
      "Returning BULGE Mass\n",
      "Returning BULGE Positions\n",
      "Returning BULGE Velocities\n",
      "Returning BULGE Mass\n"
     ]
    }
   ],
   "source": [
    "for i in range(10):\n",
    "    #GalIC position units are 1 kpc\n",
    "    hx= pygadgetreader.readsnap('/epsen_data/scr/bennett/MyMW_1e9/snap_010-'+str(int((i+1)*1000)),'pos',ptype='dm')\n",
    "    hv= pygadgetreader.readsnap('/epsen_data/scr/bennett/MyMW_1e9/snap_010-'+str(int((i+1)*1000)),'vel',ptype='dm')\n",
    "    hm= pygadgetreader.readsnap('/epsen_data/scr/bennett/MyMW_1e9/snap_010-'+str(int((i+1)*1000)),'mass',ptype='dm')*1e10/10.\n",
    "    if i==0:\n",
    "        htofile= np.vstack([hm/NMU,hx.T/NLU,hv.T/NVU]).T.astype('float32')\n",
    "        with open('/epsen_data/scr/bennett/MyMW_1e9/MyMW.00000','wb') as f:\n",
    "            htofile.tofile(f,format='f4')\n",
    "    else:\n",
    "        htofile= np.vstack([hm/NMU,hx.T/NLU,hv.T/NVU]).T.astype('float32')\n",
    "        with open('/epsen_data/scr/bennett/MyMW_1e9/MyMW.00000','ab') as f:\n",
    "            htofile.tofile(f,format='f4')\n",
    "\n",
    "for i in range(10):\n",
    "    #GalIC velocity units are 1 km/s\n",
    "    dx= pygadgetreader.readsnap('/epsen_data/scr/bennett/MyMW_1e9/snap_010-'+str(int((i+1)*1000)),'pos',ptype='disk')\n",
    "    dv= pygadgetreader.readsnap('/epsen_data/scr/bennett/MyMW_1e9/snap_010-'+str(int((i+1)*1000)),'vel',ptype='disk')\n",
    "    dm= pygadgetreader.readsnap('/epsen_data/scr/bennett/MyMW_1e9/snap_010-'+str(int((i+1)*1000)),'mass',ptype='disk')*1e10/10\n",
    "    \n",
    "    dtofile= np.vstack([dm/NMU,dx.T/NLU,dv.T/NVU]).T.astype('float32')\n",
    "    with open('/epsen_data/scr/bennett/MyMW_1e9/MyMW.00000','ab') as f:\n",
    "        dtofile.tofile(f,format='f4')\n",
    "    \n",
    "for i in range(10):\n",
    "    #GalIC mass units are 10^10 Msun\n",
    "    bx= pygadgetreader.readsnap('/epsen_data/scr/bennett/MyMW_1e9/snap_010-'+str(int((i+1)*1000)),'pos',ptype='bulge')\n",
    "    bv= pygadgetreader.readsnap('/epsen_data/scr/bennett/MyMW_1e9/snap_010-'+str(int((i+1)*1000)),'vel',ptype='bulge')\n",
    "    bm= pygadgetreader.readsnap('/epsen_data/scr/bennett/MyMW_1e9/snap_010-'+str(int((i+1)*1000)),'mass',ptype='bulge')*1e10/10\n",
    "\n",
    "    btofile= np.vstack([bm/NMU,bx.T/NLU,bv.T/NVU]).T.astype('float32')\n",
    "    with open('/epsen_data/scr/bennett/MyMW_1e9/MyMW.00000','ab') as f:\n",
    "        btofile.tofile(f,format='f4')\n",
    "        \n",
    "del hx,hv,hm\n",
    "del dx,dv,dm\n",
    "del bx,bv,bm\n",
    "\n",
    "del htofile,dtofile,btofile"
   ]
  },
  {
   "cell_type": "markdown",
   "metadata": {},
   "source": [
    "### Define a function that only reads in the disc particles"
   ]
  },
  {
   "cell_type": "code",
   "execution_count": 11,
   "metadata": {},
   "outputs": [],
   "source": [
    "# Offset is in bytes and count is number of items\n",
    "def read_disc():\n",
    "    with open('/epsen_data/scr/bennett/MyMW_1e9/MyMW.00000','rb') as f:\n",
    "        mxv= np.fromfile(f,dtype='f4',offset=int(4e8)*7*4,count=7*int(5e8))\n",
    "        mxv= np.reshape(mxv,(int(5e8),7))\n",
    "    return mxv"
   ]
  },
  {
   "cell_type": "markdown",
   "metadata": {},
   "source": [
    "## Adjust for the centre of mass of all particles and the angular momentum of the disc\n",
    "\n",
    "$$COM = \\frac{\\Sigma_i \\left(m_i\\cdot v_i\\right)}{\\Sigma_j m_j}$$\n",
    "\n",
    "$$L_z= \\vec{x}\\times \\left(m\\cdot \\vec{v}\\right)$$"
   ]
  },
  {
   "cell_type": "code",
   "execution_count": 12,
   "metadata": {},
   "outputs": [
    {
     "name": "stderr",
     "output_type": "stream",
     "text": [
      "\n",
      "  0%|          | 0/10 [00:00<?, ?it/s]\u001b[A\n",
      " 10%|█         | 1/10 [00:29<04:28, 29.87s/it]\u001b[A\n",
      " 20%|██        | 2/10 [00:57<03:49, 28.63s/it]\u001b[A\n",
      " 30%|███       | 3/10 [01:24<03:16, 28.13s/it]\u001b[A\n",
      " 40%|████      | 4/10 [01:51<02:47, 27.92s/it]\u001b[A\n",
      " 50%|█████     | 5/10 [02:18<02:18, 27.75s/it]\u001b[A\n",
      " 60%|██████    | 6/10 [02:46<01:50, 27.73s/it]\u001b[A\n",
      " 70%|███████   | 7/10 [03:13<01:22, 27.66s/it]\u001b[A\n",
      " 80%|████████  | 8/10 [03:41<00:55, 27.63s/it]\u001b[A\n",
      " 90%|█████████ | 9/10 [04:08<00:27, 27.61s/it]\u001b[A\n",
      "100%|██████████| 10/10 [04:35<00:00, 27.57s/it]\u001b[A\n",
      "\u001b[A\n",
      "  0%|          | 0/10 [00:00<?, ?it/s]\u001b[A\n",
      " 10%|█         | 1/10 [00:05<00:47,  5.33s/it]\u001b[A\n",
      " 20%|██        | 2/10 [00:10<00:42,  5.26s/it]\u001b[A\n",
      " 30%|███       | 3/10 [00:15<00:36,  5.21s/it]\u001b[A\n",
      " 40%|████      | 4/10 [00:20<00:31,  5.20s/it]\u001b[A\n",
      " 50%|█████     | 5/10 [00:25<00:25,  5.16s/it]\u001b[A\n",
      " 60%|██████    | 6/10 [00:30<00:20,  5.14s/it]\u001b[A\n",
      " 70%|███████   | 7/10 [00:35<00:15,  5.12s/it]\u001b[A\n",
      " 80%|████████  | 8/10 [00:40<00:10,  5.12s/it]\u001b[A\n",
      " 90%|█████████ | 9/10 [00:46<00:05,  5.13s/it]\u001b[A\n",
      "100%|██████████| 10/10 [00:51<00:00,  5.13s/it]\u001b[A\n",
      "\u001b[A"
     ]
    }
   ],
   "source": [
    "nump= int(1e9)\n",
    "nslice= 10\n",
    "ndisk= int(5e8)\n",
    "mtot= 0\n",
    "COMraw= 0\n",
    "Ltot= np.array([0., 0., 0.]) \n",
    "\n",
    "for i in tqdm.trange(nslice):\n",
    "    with open('/epsen_data/scr/bennett/MyMW_1e9/MyMW.00000','rb') as f:\n",
    "        mxv= np.fromfile(f,dtype='f4',offset=i*7*int(nump/nslice)*4,count=7*int(nump/nslice))\n",
    "        mxv= np.reshape(mxv,(int(nump/nslice),7))\n",
    "        mtot+=np.sum(mxv[:,0])\n",
    "        COMraw+=np.sum(mxv[:,0][:,None]*mxv[:,1:4],axis=0)\n",
    "        \n",
    "COM= COMraw/mtot\n",
    "\n",
    "for i in tqdm.trange(nslice):\n",
    "    with open('/epsen_data/scr/bennett/MyMW_1e9/MyMW.00000','rb') as f:\n",
    "        mxv= np.fromfile(f,dtype='f4',offset=(int(4e8)*7+i*7*int(ndisk/nslice))*4,count=7*int(ndisk/nslice))\n",
    "        mxv= np.reshape(mxv,(int(ndisk/nslice),7))\n",
    "        Ltot+= np.sum(np.cross((mxv[:,1:4]-COM),mxv[:,0][:,None]*mxv[:,4:]),axis=0)\n",
    "        "
   ]
  },
  {
   "cell_type": "code",
   "execution_count": 13,
   "metadata": {},
   "outputs": [
    {
     "name": "stdout",
     "output_type": "stream",
     "text": [
      "[-1.94644429e-07  1.44684092e-06  1.00000000e+00]\n"
     ]
    }
   ],
   "source": [
    "print(Ltot/np.sqrt(np.sum(Ltot**2)))"
   ]
  },
  {
   "cell_type": "markdown",
   "metadata": {},
   "source": [
    "### Use the anglar momentum to rotate the positions and velocities of the particles"
   ]
  },
  {
   "cell_type": "code",
   "execution_count": 14,
   "metadata": {},
   "outputs": [
    {
     "name": "stderr",
     "output_type": "stream",
     "text": [
      "\n",
      "  0%|          | 0/10 [00:00<?, ?it/s]\u001b[A\n",
      " 10%|█         | 1/10 [00:53<07:59, 53.24s/it]\u001b[A\n",
      " 20%|██        | 2/10 [01:57<07:50, 58.76s/it]\u001b[A\n",
      " 30%|███       | 3/10 [03:06<07:14, 62.08s/it]\u001b[A\n",
      " 40%|████      | 4/10 [04:06<06:10, 61.73s/it]\u001b[A\n",
      " 50%|█████     | 5/10 [05:07<05:07, 61.44s/it]\u001b[A\n",
      " 60%|██████    | 6/10 [06:09<04:06, 61.62s/it]\u001b[A\n",
      " 70%|███████   | 7/10 [07:20<03:08, 62.96s/it]\u001b[A\n",
      " 80%|████████  | 8/10 [08:31<02:07, 63.93s/it]\u001b[A\n",
      " 90%|█████████ | 9/10 [09:34<01:03, 63.78s/it]\u001b[A\n",
      "100%|██████████| 10/10 [10:44<00:00, 64.44s/it]\u001b[A\n",
      "\u001b[A"
     ]
    }
   ],
   "source": [
    "Ltot= Ltot/np.sqrt(np.sum(Ltot**2))\n",
    "rot= SimPy.calc_Rot_matrix(Ltot)\n",
    "\n",
    "for i in tqdm.trange(nslice):\n",
    "    with open('/epsen_data/scr/bennett/MyMW_1e9/MyMW.00000','rb') as f:\n",
    "        mxv= np.fromfile(f,dtype='f4',offset=i*7*int(nump/nslice)*4,count=7*int(nump/nslice))\n",
    "        mxv= np.reshape(mxv,(int(nump/nslice),7))\n",
    "        pos= np.matmul(rot,mxv[:,1:4].T-COM[:,None])\n",
    "        vel= np.matmul(rot,mxv[:,4:].T)\n",
    "        \n",
    "        tofile= np.vstack([mxv[:,0],pos,vel]).T.astype('float32')\n",
    "        if i==0:\n",
    "            with open('/epsen_data/scr/bennett/MyMW_1e9/MyMW_adj.00000','wb') as f:\n",
    "                tofile.tofile(f,format='f4')\n",
    "        else:\n",
    "            with open('/epsen_data/scr/bennett/MyMW_1e9/MyMW_adj.00000','ab') as f:\n",
    "                tofile.tofile(f,format='f4')"
   ]
  },
  {
   "cell_type": "code",
   "execution_count": 15,
   "metadata": {},
   "outputs": [],
   "source": [
    "# Truncate so no particles are outside of 200 kpc\n",
    "with open('/epsen_data/scr/bennett/MyMW_1e9/MyMW_adj.00000','rb') as f:\n",
    "    mxv= np.fromfile(f,dtype='f4')\n",
    "    mxv= np.reshape(mxv,(int(len(mxv)/7),7))"
   ]
  },
  {
   "cell_type": "markdown",
   "metadata": {},
   "source": [
    "### Calculate number of particles in each component after truncation"
   ]
  },
  {
   "cell_type": "code",
   "execution_count": 16,
   "metadata": {},
   "outputs": [
    {
     "name": "stdout",
     "output_type": "stream",
     "text": [
      "Halo particles:  313637500\n",
      "Disc particles:  500000000\n",
      "Bulge particles:  99492615\n",
      "Total number of particles:  913130115\n"
     ]
    }
   ],
   "source": [
    "r= np.sqrt(mxv[:,1]**2+mxv[:,2]**2+mxv[:,2]**2)\n",
    "print('Halo particles: ',np.sum([r[:int(4e8)]<200]))\n",
    "print('Disc particles: ',np.sum([r[int(4e8):int(9e8)]<200]))\n",
    "print('Bulge particles: ',np.sum([r[int(9e8):]<200]))\n",
    "print('Total number of particles: ',np.sum([r<200]))\n",
    "\n",
    "mxv=mxv[r<200]"
   ]
  },
  {
   "cell_type": "markdown",
   "metadata": {},
   "source": [
    "### Write truncated particles to file"
   ]
  },
  {
   "cell_type": "code",
   "execution_count": 17,
   "metadata": {},
   "outputs": [],
   "source": [
    "with open('/epsen_data/scr/bennett/MyMW_1e9/MyMW_trunc.00000','wb') as f:\n",
    "    mxv.tofile(f,format='f4')"
   ]
  },
  {
   "cell_type": "code",
   "execution_count": null,
   "metadata": {},
   "outputs": [],
   "source": []
  }
 ],
 "metadata": {
  "kernelspec": {
   "display_name": "Python 3",
   "language": "python",
   "name": "python3"
  },
  "language_info": {
   "codemirror_mode": {
    "name": "ipython",
    "version": 3
   },
   "file_extension": ".py",
   "mimetype": "text/x-python",
   "name": "python",
   "nbconvert_exporter": "python",
   "pygments_lexer": "ipython3",
   "version": "3.6.5"
  }
 },
 "nbformat": 4,
 "nbformat_minor": 2
}
