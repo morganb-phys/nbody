{
 "cells": [
  {
   "cell_type": "markdown",
   "metadata": {},
   "source": [
    "# Calculate Orbit of Sgr in Simulation Galaxy"
   ]
  },
  {
   "cell_type": "code",
   "execution_count": null,
   "metadata": {},
   "outputs": [],
   "source": [
    "import numpy as np\n",
    "from galpy.potential import SCFPotential, scf_compute_coeffs_nbody, evaluateDensities,plotDensities\n",
    "from galpy.potential import MWPotential2014, turn_physical_off,Potential\n",
    "from galpy.util.conversion import time_in_Gyr,mass_in_msol\n",
    "from galpy.util import plot\n",
    "import galpy\n",
    "import pandas as pd\n",
    "import matplotlib.pyplot as plt\n",
    "from scipy.interpolate import interp1d\n",
    "import astropy.units as apu\n",
    "import py.SimPy as sp\n",
    "import pickle\n",
    "import tqdm"
   ]
  },
  {
   "cell_type": "code",
   "execution_count": 2,
   "metadata": {},
   "outputs": [],
   "source": [
    "with open('/home/bennett/nbody/data/n_part_equil.txt','r') as f:\n",
    "    Np= f.read()\n",
    "Np= np.array(Np.split('\\n')[1].split(','),dtype='int')"
   ]
  },
  {
   "cell_type": "markdown",
   "metadata": {},
   "source": [
    "## Load or Calculate SCFPotential for three components of the disc"
   ]
  },
  {
   "cell_type": "code",
   "execution_count": 3,
   "metadata": {},
   "outputs": [],
   "source": [
    "try:\n",
    "    with open('data/snaps/equil_306_snap','rb') as f:\n",
    "        snap= pickle.load(f)\n",
    "except:\n",
    "    fname='/epsen_data/scr/bennett/MyMW_1e9/MyMW_306.00000'\n",
    "    snap= sp.Snapshot(fname,Np[0],hf=Np[1],df=Np[2],bf=Np[3],Nslice=10,frac=False,dt=0.0098)"
   ]
  },
  {
   "cell_type": "code",
   "execution_count": 4,
   "metadata": {},
   "outputs": [
    {
     "data": {
      "text/plain": [
       "array([-0.05452025, -0.00312657,  0.12537393])"
      ]
     },
     "execution_count": 4,
     "metadata": {},
     "output_type": "execute_result"
    }
   ],
   "source": [
    "snap._COM"
   ]
  },
  {
   "cell_type": "code",
   "execution_count": 5,
   "metadata": {},
   "outputs": [
    {
     "data": {
      "text/plain": [
       "[<galpy.potential.SCFPotential.SCFPotential at 0x7f6196a22c88>,\n",
       " <galpy.potential.SCFPotential.SCFPotential at 0x7f6196a22d30>,\n",
       " <galpy.potential.SCFPotential.SCFPotential at 0x7f6196a22d68>]"
      ]
     },
     "execution_count": 5,
     "metadata": {},
     "output_type": "execute_result"
    }
   ],
   "source": [
    "snap.calc_potential()"
   ]
  },
  {
   "cell_type": "code",
   "execution_count": null,
   "metadata": {},
   "outputs": [],
   "source": [
    "rmin=0.\n",
    "rmax=1.5\n",
    "nrs=21\n",
    "zmin=-0.5\n",
    "zmax=0.5\n",
    "nzs=21\n",
    "\n",
    "phi=3.1415\n",
    "ncontours=[21,5,10]\n",
    "\n",
    "Rs= np.linspace(rmin,rmax,nrs)\n",
    "zs= np.linspace(zmin,zmax,nzs)\n",
    "potRz= np.zeros((3,nrs,nzs))\n",
    "potRzMW= np.zeros((3,nrs,nzs))\n",
    "for k,p in enumerate(snap.pot):\n",
    "    for ii in range(nrs):\n",
    "        for jj in range(nzs):\n",
    "            R,z= Rs[ii], zs[jj]\n",
    "            potRz[k,ii,jj]= evaluateDensities(p,np.fabs(R),z,phi=phi,use_physical=False)\n",
    "            potRzMW[k,ii,jj]= evaluateDensities(MWPotential2014[2-k],np.fabs(R),z,phi=phi,use_physical=False)\n",
    "\n",
    "aspect=.75*(rmax-rmin)/(zmax-zmin)\n",
    "\n",
    "xlab=r\"$R/R_0$\"\n",
    "ylab=r\"$z/R_0$\"\n",
    "\n",
    "fig,ax= plt.subplots(2,3,sharex=True,sharey=True,figsize=(15,8))\n",
    "for i in range(3):\n",
    "    ax[1,i].imshow((potRz[i].T),cmap='Greys',extent=[rmin,rmax,zmin,zmax])\n",
    "    ax[1,i].contour(Rs, zs, (potRz[i].T), ncontours[i], colors='black')\n",
    "    ax[0,i].imshow((potRzMW[i].T),cmap='Greys',extent=[rmin,rmax,zmin,zmax])\n",
    "    ax[0,i].contour(Rs, zs, (potRzMW[i].T), ncontours[i], colors='black')\n",
    "\n",
    "fig.subplots_adjust(hspace=0.,wspace=0)\n",
    "\n"
   ]
  },
  {
   "cell_type": "markdown",
   "metadata": {},
   "source": [
    "### Setup the dynamical friction"
   ]
  },
  {
   "cell_type": "code",
   "execution_count": 9,
   "metadata": {},
   "outputs": [
    {
     "name": "stdout",
     "output_type": "stream",
     "text": [
      "Index(['step', 'time', 'mass', 'x', 'y', 'z', 'vx', 'vy', 'vz'], dtype='object')\n"
     ]
    }
   ],
   "source": [
    "SgrPath= pd.read_pickle('/home/bennett/MWwSgrLambda065')\n",
    "print(SgrPath.columns)"
   ]
  },
  {
   "cell_type": "code",
   "execution_count": 10,
   "metadata": {},
   "outputs": [
    {
     "name": "stdout",
     "output_type": "stream",
     "text": [
      "1038.904\n"
     ]
    },
    {
     "data": {
      "text/plain": [
       "[<matplotlib.lines.Line2D at 0x7f619467e0b8>]"
      ]
     },
     "execution_count": 10,
     "metadata": {},
     "output_type": "execute_result"
    },
    {
     "data": {
      "image/png": "[encoded data removed]",
      "text/plain": [
       "<Figure size 432x288 with 1 Axes>"
      ]
     },
     "metadata": {},
     "output_type": "display_data"
    }
   ],
   "source": [
    "print(np.array(SgrPath['time'])[-1])\n",
    "time_frac= SgrPath['time'][::-1]/np.array(SgrPath['time'])[-1]\n",
    "massfrac_t= interp1d(time_frac,SgrPath['mass']/np.max(SgrPath['mass']),kind='cubic')\n",
    "\n",
    "plt.plot(time_frac,massfrac_t(time_frac))"
   ]
  },
  {
   "cell_type": "code",
   "execution_count": 26,
   "metadata": {},
   "outputs": [
    {
     "name": "stdout",
     "output_type": "stream",
     "text": [
      "[array([[ 2.08565863,  1.03271685,  0.29899307, -0.78285305,  0.91977612,\n",
      "         2.9977595 ]]), array([[ 2.09925213,  1.01019162,  0.30403824, -0.78632461,  0.93162611,\n",
      "         2.99806131]]), array([[ 2.09747526,  1.01377741,  0.30241442, -0.78587083,  0.93003155,\n",
      "         2.99802208]])]\n"
     ]
    }
   ],
   "source": [
    "with open('/epsen_data/scr/bennett/Sgr-VerticalWaves/data/Orbits/vz_through.dat','rb') as f:\n",
    "    vz= np.load(f)\n",
    "\n",
    "idx0= np.argsort(vz)[0,0][len(vz[0,0])//2]\n",
    "idx1= np.argsort(vz)[0,1][len(vz[0,1])//2]\n",
    "idx2= np.argsort(vz)[0,2][len(vz[0,2])//2]\n",
    "\n",
    "with open('/epsen_data/scr/bennett/Sgr-VerticalWaves/data/Orbits/dynfric/osgr_halo0_sgr0.pickle','rb') as f:\n",
    "    o0= pickle.load(f)[idx0]\n",
    "with open('/epsen_data/scr/bennett/Sgr-VerticalWaves/data/Orbits/dynfric/osgr_halo0_sgr1.pickle','rb') as f:\n",
    "    o1= pickle.load(f)[idx1]\n",
    "with open('/epsen_data/scr/bennett/Sgr-VerticalWaves/data/Orbits/dynfric/osgr_halo0_sgr2.pickle','rb') as f:\n",
    "    o2= pickle.load(f)[idx2]\n",
    "    \n",
    "init= [o0.vxvv, o1.vxvv, o2.vxvv]\n",
    "print(init)"
   ]
  },
  {
   "cell_type": "code",
   "execution_count": 12,
   "metadata": {},
   "outputs": [],
   "source": [
    "FilePath='/epsen_data/scr/bennett/WaveModel/'\n",
    "\n",
    "with open(FilePath+'py/Data/halo_masses.dat','rb') as f:\n",
    "    halo_m= np.loadtxt(f)\n",
    "with open(FilePath+'py/Data/halo_radius.dat','rb') as f:\n",
    "    halo_a= np.loadtxt(f)\n",
    "with open(FilePath+'py/Data/stlr_masses.dat','rb') as f:\n",
    "    stlr_m= np.loadtxt(f)\n",
    "with open(FilePath+'py/Data/stlr_radius.dat','rb') as f:\n",
    "    stlr_a= np.loadtxt(f)\n",
    "with open(FilePath+'py/Data/sgr_rhm.dat','rb') as f:\n",
    "    sgr_rhm= np.loadtxt(f)\n",
    "\n",
    "nt=1001\n",
    "sgrI=[0,1,2]"
   ]
  },
  {
   "cell_type": "markdown",
   "metadata": {},
   "source": [
    "## Set up dynamical friction and integrate using SCF potential"
   ]
  },
  {
   "cell_type": "code",
   "execution_count": 14,
   "metadata": {},
   "outputs": [],
   "source": [
    "chand_dynfric=[]\n",
    "for ii in sgrI:\n",
    "    chand_dynfric.append(galpy.potential.ChandrasekharDynamicalFrictionForce(amp=1.,\n",
    "                                                                             GMs=(halo_m[ii]+stlr_m[ii])*apu.M_sun, \n",
    "                                                                             rhm=sgr_rhm[ii]*apu.kpc,\n",
    "                                                                             dens=list(snap.pot)))\n",
    "    chand_dynfric[ii].turn_physical_off()"
   ]
  },
  {
   "cell_type": "code",
   "execution_count": 27,
   "metadata": {},
   "outputs": [
    {
     "name": "stdout",
     "output_type": "stream",
     "text": [
      "galpyWarning: Cannot use symplectic integration because some of the included forces are dissipative (using non-symplectic integrator dopr54_c instead)\n"
     ]
    }
   ],
   "source": [
    "# Now integrate\n",
    "end_times=[-1.05,-0.98,-0.97]\n",
    "r= np.zeros((3,nt-1))\n",
    "sgr_final_loc= np.empty(3,dtype='object')\n",
    "times = [np.linspace(0, end_times[ii], nt)/time_in_Gyr(220.,8.) for ii in sgrI]\n",
    "\n",
    "for ii in sgrI:\n",
    "    pot_df = snap.pot+chand_dynfric[ii]\n",
    "\n",
    "    o_sgr = galpy.orbit.Orbit(vxvv=init[ii])\n",
    "    o_sgr.turn_physical_off()\n",
    "\n",
    "    for i in range(nt-1):\n",
    "        pot_df[3].GMs= (halo_m[ii]+stlr_m[ii])*apu.M_sun*massfrac_t(times[ii][i]/times[ii][-1])\n",
    "        t= np.linspace(times[ii][i],times[ii][(i+1)],100)\n",
    "        o_sgr.integrate(t, pot_df)   \n",
    "        r[ii,i]= o_sgr.r(times[ii][i+1])\n",
    "        o_sgr= o_sgr(times[ii][(i+1)])\n",
    "        sgr_final_loc[ii]= o_sgr"
   ]
  },
  {
   "cell_type": "code",
   "execution_count": 28,
   "metadata": {},
   "outputs": [
    {
     "data": {
      "image/png": "[encoded data removed]",
      "text/plain": [
       "<Figure size 504x360 with 1 Axes>"
      ]
     },
     "metadata": {},
     "output_type": "display_data"
    }
   ],
   "source": [
    "plt.figure(figsize=(7,5))\n",
    "for ii in sgrI:\n",
    "    plt.plot(times[ii][1:]*time_in_Gyr(220.,8.),r[ii]*8,label='Halo')\n",
    "    plt.ylabel(r'$\\mathrm{r\\,(kpc)}$')\n",
    "    plt.xlabel(r'$\\mathrm{Time\\,(Myr)}$')\n",
    "    plt.legend()"
   ]
  },
  {
   "cell_type": "code",
   "execution_count": 34,
   "metadata": {},
   "outputs": [],
   "source": [
    "with open('data/sgr_loc.txt','w') as f:\n",
    "    f.write(\"x,y,z,vx,vy,vz\\n\")\n",
    "    for ii in sgrI:\n",
    "        f.write(str(sgr_final_loc[ii].x()[0]*8.)+','+str(sgr_final_loc[ii].y()[0]*8.)+','+\n",
    "                str(sgr_final_loc[ii].z()[0]*8.)+','+str(sgr_final_loc[ii].vx()[0]*220.)+','+\n",
    "                str(sgr_final_loc[ii].vy()[0]*220.)+','+str(sgr_final_loc[ii].vz()[0]*220.)+'\\n')"
   ]
  },
  {
   "cell_type": "code",
   "execution_count": 3,
   "metadata": {},
   "outputs": [],
   "source": [
    "with open('data/sgr_loc.txt','r') as f:\n",
    "    Sgr_pos= f.read()"
   ]
  },
  {
   "cell_type": "markdown",
   "metadata": {},
   "source": [
    "### Convert GalIC snapshot to binary file"
   ]
  },
  {
   "cell_type": "code",
   "execution_count": null,
   "metadata": {},
   "outputs": [],
   "source": [
    "import math\n",
    "import numpy as np\n",
    "import matplotlib.pyplot as plt\n",
    "import matplotlib.cm as cm\n",
    "import struct\n",
    "import ctypes\n",
    "import pickle\n",
    "import sys\n",
    "import pygadgetreader\n",
    "\n",
    "indx=0\n",
    "\n",
    "#GalIC position units are 1 kpc\n",
    "#GalIC velocity units are 1 km/s\n",
    "#GalIC mass units are 10^10 Msun\n",
    "dmx= pygadgetreader.readsnap('/epsen_data/scr/bennett/Sgr'+str(indx+1)+'/snap_010','pos',ptype='dm')\n",
    "dmmask= tuple([np.sqrt(dmx[:,0]**2+dmx[:,1]**2+dmx[:,2]**2)<500.])\n",
    "dmx= dmx[dmmask]\n",
    "dmv= pygadgetreader.readsnap('/epsen_data/scr/bennett/Sgr'+str(indx+1)+'/snap_010','vel',ptype='dm')\n",
    "dmv=dmv[dmmask]\n",
    "dmm= pygadgetreader.readsnap('/epsen_data/scr/bennett/Sgr'+str(indx+1)+'/snap_010','mass',ptype='dm')*1e10\n",
    "dmm= dmm[dmmask]\n",
    "\n",
    "stlrx= pygadgetreader.readsnap('/epsen_data/scr/bennett/Sgr'+str(indx+1)+'/snap_010','pos',ptype='bulge')\n",
    "stlrmask= tuple([np.sqrt(stlrx[:,0]**2+stlrx[:,1]**2+stlrx[:,2]**2)<500.])\n",
    "stlrx= stlrx[stlrmask]\n",
    "stlrv= pygadgetreader.readsnap('/epsen_data/scr/bennett/Sgr'+str(indx+1)+'/snap_010','vel',ptype='bulge')\n",
    "stlrv= stlrv[stlrmask]\n",
    "stlrm= pygadgetreader.readsnap('/epsen_data/scr/bennett/Sgr'+str(indx+1)+'/snap_010','mass',ptype='bulge')*1e10\n",
    "stlrm= stlrm[stlrmask]\n",
    "\n",
    "with open('/epsen_data/scr/bennett/MyMW_1e9/MyMW_306.00000','rb') as f:\n",
    "    mw= np.fromfile(f,dtype='f4')\n",
    "ntot= int(len(mw)/7)\n",
    "mw= np.reshape(mw,[ntot,7])\n",
    "\n",
    "nh=Np[1]\n",
    "print(nh)\n",
    "\n",
    "x,y,z,vx,vy,vz= [float(sgrxv.strip('[').strip(']')) for sgrxv in Sgr_pos.split('\\n')[indx+1].split(',')]\n",
    "\n",
    "xdark=np.hstack((mw[:nh,1],dmx[:,0]+x))\n",
    "ydark=np.hstack((mw[:nh,2],dmx[:,1]+y))\n",
    "zdark=np.hstack((mw[:nh,3],dmx[:,2]+z))\n",
    "vxdark=np.hstack((mw[:nh,4],dmv[:,0]+vx))\n",
    "vydark=np.hstack((mw[:nh,5],dmv[:,1]+vy))\n",
    "vzdark=np.hstack((mw[:nh,6],dmv[:,2]+vz))\n",
    "darkmass=np.hstack((mw[:nh,0],dmm))\n",
    "\n",
    "xstar=np.hstack((mw[nh:,1],stlrx[:,0]+x))\n",
    "ystar=np.hstack((mw[nh:,2],stlrx[:,1]+y))\n",
    "zstar=np.hstack((mw[nh:,3],stlrx[:,2]+z))\n",
    "vxstar=np.hstack((mw[nh:,4],stlrv[:,0]+vx))\n",
    "vystar=np.hstack((mw[nh:,5],stlrv[:,1]+vy))\n",
    "vzstar=np.hstack((mw[nh:,6],stlrv[:,2]+vz))\n",
    "starmass=np.hstack((mw[nh:,0],stlrm))\n",
    "\n",
    "del mw\n",
    "del dmv,dmx,stlrv,stlrx,dmm,stlrm\n",
    "\n",
    "nstar=len(starmass)\n",
    "ngas=0\n",
    "ndark=len(darkmass)\n",
    "\n",
    "print(nstar,'stars')\n",
    "print(ndark,'dark')\n",
    "\n",
    "with open('data/n_part_Sgr'+str(indx+1)+'.txt','w') as f:\n",
    "    f.write(\"total,halo,disc,bulge,Sgrhalo,SgrStlr\\n\")\n",
    "    f.write(str(int(nstar+ndark))+','+str(int(ndark))+','+\n",
    "            str(int(Np[2]))+','+str(int(Np[3]))+','+\n",
    "            str(int(ndark-Np[1]))+','+str(int(nstar-Np[2]-Np[3])))"
   ]
  },
  {
   "cell_type": "code",
   "execution_count": null,
   "metadata": {},
   "outputs": [],
   "source": [
    "f = open('/epsen_data/scr/bennett/IC4Jason/Morgan_Sgr'+str(indx+1)+'.tipsy', 'wb')\n",
    "f.write(struct.pack(\"<diiiiii\", 0.0, nstar+ndark, 3, 0, ndark, nstar, 2))\n",
    "for i in range(ndark):\n",
    "    f.write(struct.pack(\"<fffffffQ\", darkmass[i]/2.324876e9, xdark[i], ydark[i], zdark[i], \n",
    "                        vxdark[i]/100., vydark[i]/100. ,vzdark[i]/100., np.int64(3000000000000000000+i)))\n",
    "for i in range(nstar):\n",
    "    f.write(struct.pack(\"<fffffffffQ\", starmass[i]/2.324876e9, xstar[i], ystar[i], zstar[i], \n",
    "                        vxstar[i]/100., vystar[i]/100., vzstar[i]/100., 0.0, 0.0, np.int64(i)))\n",
    "f.close()"
   ]
  },
  {
   "cell_type": "code",
   "execution_count": null,
   "metadata": {},
   "outputs": [],
   "source": [
    "del vxstar,vystar,vzstar,zstar,starmass\n",
    "del vxdark,vydark,vzdark,xdark,ydark,zdark,darkmass"
   ]
  },
  {
   "cell_type": "code",
   "execution_count": null,
   "metadata": {},
   "outputs": [],
   "source": [
    "plt.hexbin(xstar,ystar,extent=[-50,50,-50,50],bins='log')"
   ]
  },
  {
   "cell_type": "code",
   "execution_count": null,
   "metadata": {},
   "outputs": [],
   "source": [
    "del xstar,ystar"
   ]
  },
  {
   "cell_type": "code",
   "execution_count": null,
   "metadata": {},
   "outputs": [],
   "source": []
  }
 ],
 "metadata": {
  "kernelspec": {
   "display_name": "Python 3",
   "language": "python",
   "name": "python3"
  },
  "language_info": {
   "codemirror_mode": {
    "name": "ipython",
    "version": 3
   },
   "file_extension": ".py",
   "mimetype": "text/x-python",
   "name": "python",
   "nbconvert_exporter": "python",
   "pygments_lexer": "ipython3",
   "version": "3.6.5"
  }
 },
 "nbformat": 4,
 "nbformat_minor": 2
}
